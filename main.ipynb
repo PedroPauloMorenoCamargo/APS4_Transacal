{
 "cells": [
  {
   "cell_type": "code",
   "execution_count": 12,
   "metadata": {},
   "outputs": [],
   "source": [
    "#Importa funções\n",
    "from funcoesTermosol import *\n",
    "from jacobi_gauss import *"
   ]
  },
  {
   "cell_type": "code",
   "execution_count": 13,
   "metadata": {},
   "outputs": [],
   "source": [
    "def matprint(mat, fmt=\"g\"):        # Credits to braingineer https://gist.github.com/braingineer/d801735dac07ff3ac4d746e1f218ab75\n",
    "    col_maxes = [max([len((\"{:\"+fmt+\"}\").format(x)) for x in col]) for col in mat.T]\n",
    "    for x in mat:\n",
    "        for i, y in enumerate(x):\n",
    "            print((\"{:\"+str(col_maxes[i])+fmt+\"}\").format(y), end=\"  \")\n",
    "        print(\"\")"
   ]
  },
  {
   "cell_type": "code",
   "execution_count": 14,
   "metadata": {},
   "outputs": [
    {
     "data": {
      "image/png": "[encoded data removed]",
      "text/plain": [
       "<Figure size 640x480 with 1 Axes>"
      ]
     },
     "metadata": {},
     "output_type": "display_data"
    }
   ],
   "source": [
    "#Lê arquivo de entrada\n",
    "nn,N,nm,Inc,nc,F,nr,R = importa('entrada2.xls')\n",
    "plota(N,Inc)"
   ]
  },
  {
   "cell_type": "code",
   "execution_count": 15,
   "metadata": {},
   "outputs": [],
   "source": [
    "#Cria os nos e elementos\n",
    "nos = cria_nos(nn,N,F)\n",
    "elementos = cria_elementos(nm,Inc,nos)"
   ]
  },
  {
   "cell_type": "code",
   "execution_count": 16,
   "metadata": {},
   "outputs": [],
   "source": [
    "#Calcula as Matrizes de Rigidez\n",
    "for elemento in elementos:\n",
    "    matriz_rigidez = calcula_matriz_rigidez(elemento)\n",
    "    elemento.setMatrizRigidez(matriz_rigidez)"
   ]
  },
  {
   "cell_type": "code",
   "execution_count": 17,
   "metadata": {},
   "outputs": [],
   "source": [
    "#Calcula a matriz de rigidez universal\n",
    "K_G = get_matriz_universal(nn,nm,elementos)\n",
    "temp = K_G"
   ]
  },
  {
   "cell_type": "code",
   "execution_count": 18,
   "metadata": {},
   "outputs": [
    {
     "data": {
      "text/plain": [
       "array([[13.],\n",
       "       [ 1.],\n",
       "       [ 0.]])"
      ]
     },
     "execution_count": 18,
     "metadata": {},
     "output_type": "execute_result"
    }
   ],
   "source": [
    "#Inverte o array de R\n",
    "R_invertido = np.zeros_like(R)\n",
    "cont = len(R)-1\n",
    "i = 0\n",
    "while cont>=0:\n",
    "    R_invertido[i] = R[cont]\n",
    "    cont -=1\n",
    "    i+=1\n",
    "\n",
    "R_invertido"
   ]
  },
  {
   "cell_type": "code",
   "execution_count": 19,
   "metadata": {},
   "outputs": [],
   "source": [
    "F_alterado = F\n",
    "mask_K_G = np.ones(K_G.shape[0],bool)\n",
    "mask_F = np.ones(K_G.shape[0],bool)\n",
    "for restricao in R_invertido:\n",
    "    mask_K_G[int(restricao[0])] = 0\n",
    "    mask_F[int(restricao[0])] = 0\n",
    "\n",
    "K_G_alterado = K_G[mask_K_G,:][:,mask_K_G]\n",
    "F_alterado = F[mask_F,:]\n"
   ]
  },
  {
   "cell_type": "code",
   "execution_count": 20,
   "metadata": {},
   "outputs": [],
   "source": [
    "U = np.linalg.inv(K_G_alterado)@F_alterado\n",
    "U2 = np.zeros_like(F)\n",
    "cont = 0\n",
    "for i in range(0,len(F)):\n",
    "    if i not in R:\n",
    "        U2[i] = U[cont]\n",
    "        cont+=1\n",
    "\n",
    "Reac = np.dot(temp,U2)\n",
    "Reacoes_final = np.zeros_like(R)\n",
    "cont = 0\n",
    "for i in range(0,len(F)):\n",
    "    if i in R:\n",
    "        Reacoes_final[cont] = Reac[i]\n",
    "        cont+=1\n",
    "\n",
    "deformacoes,tensoes,forcas = get_lista_deformacoes_forcas_tensoes(U2,elementos)\n",
    "\n",
    "geraSaida(\"Numpy\",Reacoes_final,U2,deformacoes,forcas,tensoes)"
   ]
  },
  {
   "cell_type": "code",
   "execution_count": 21,
   "metadata": {},
   "outputs": [
    {
     "name": "stdout",
     "output_type": "stream",
     "text": [
      "3.2485758756881964e+107\n"
     ]
    },
    {
     "name": "stderr",
     "output_type": "stream",
     "text": [
      "/home/perubr12/Desktop/Insper/Transcal/APS4_Transacal/jacobi_gauss.py:13: RuntimeWarning: invalid value encountered in divide\n",
      "  erro = np.divide(np.subtract(x,x_antigo),x + 1e-15)\n",
      "/home/perubr12/Desktop/Insper/Transcal/APS4_Transacal/jacobi_gauss.py:12: RuntimeWarning: invalid value encountered in add\n",
      "  x[i] = ((b[i]-np.dot(linha,x_antigo))/linha[i]) + x[i]\n"
     ]
    }
   ],
   "source": [
    "U = jacobi(K_G_alterado,F_alterado,10000,1e-20)\n",
    "U2 = np.zeros_like(F)\n",
    "cont = 0\n",
    "for i in range(0,len(F)):\n",
    "    if i not in R:\n",
    "        U2[i] = U[cont]\n",
    "        cont+=1\n",
    "\n",
    "Reac = np.dot(temp,U2)\n",
    "Reacoes_final = np.zeros_like(R)\n",
    "cont = 0\n",
    "for i in range(0,len(F)):\n",
    "    if i in R:\n",
    "        Reacoes_final[cont] = Reac[i]\n",
    "        cont+=1\n",
    "\n",
    "deformacoes,tensoes,forcas = get_lista_deformacoes_forcas_tensoes(U2,elementos)\n",
    "\n",
    "geraSaida(\"Jacobi\",Reacoes_final,U2,deformacoes,forcas,tensoes)"
   ]
  },
  {
   "cell_type": "code",
   "execution_count": 22,
   "metadata": {},
   "outputs": [],
   "source": [
    "U = seidel(K_G_alterado,F_alterado,10000,1e-20)\n",
    "U2 = np.zeros_like(F)\n",
    "cont = 0\n",
    "for i in range(0,len(F)):\n",
    "    if i not in R:\n",
    "        U2[i] = U[cont]\n",
    "        cont+=1\n",
    "\n",
    "Reac = np.dot(temp,U2)\n",
    "Reacoes_final = np.zeros_like(R)\n",
    "cont = 0\n",
    "for i in range(0,len(F)):\n",
    "    if i in R:\n",
    "        Reacoes_final[cont] = Reac[i]\n",
    "        cont+=1\n",
    "\n",
    "deformacoes,tensoes,forcas = get_lista_deformacoes_forcas_tensoes(U2,elementos)\n",
    "\n",
    "geraSaida(\"Seidel\",Reacoes_final,U2,deformacoes,forcas,tensoes)"
   ]
  },
  {
   "cell_type": "code",
   "execution_count": null,
   "metadata": {},
   "outputs": [],
   "source": []
  }
 ],
 "metadata": {
  "kernelspec": {
   "display_name": "Python 3",
   "language": "python",
   "name": "python3"
  },
  "language_info": {
   "codemirror_mode": {
    "name": "ipython",
    "version": 3
   },
   "file_extension": ".py",
   "mimetype": "text/x-python",
   "name": "python",
   "nbconvert_exporter": "python",
   "pygments_lexer": "ipython3",
   "version": "3.10.6"
  },
  "orig_nbformat": 4
 },
 "nbformat": 4,
 "nbformat_minor": 2
}
