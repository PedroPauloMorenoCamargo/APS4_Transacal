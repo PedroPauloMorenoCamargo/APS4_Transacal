{
 "cells": [
  {
   "cell_type": "code",
   "execution_count": 11,
   "metadata": {},
   "outputs": [],
   "source": [
    "#Importa funções\n",
    "from funcoesTermosol import *\n",
    "from jacobi_gauss import *\n",
    "from time import perf_counter"
   ]
  },
  {
   "cell_type": "code",
   "execution_count": 12,
   "metadata": {},
   "outputs": [
    {
     "data": {
      "image/png": "[encoded data removed]",
      "text/plain": [
       "<Figure size 640x480 with 1 Axes>"
      ]
     },
     "metadata": {},
     "output_type": "display_data"
    }
   ],
   "source": [
    "#Lê arquivo de entrada\n",
    "nn,N,nm,Inc,nc,F,nr,R = importa('saida.xls')\n",
    "plota(N,Inc)"
   ]
  },
  {
   "cell_type": "code",
   "execution_count": 13,
   "metadata": {},
   "outputs": [],
   "source": [
    "#Cria os nos e elementos\n",
    "nos = cria_nos(nn,N,F)\n",
    "elementos = cria_elementos(nm,Inc,nos)"
   ]
  },
  {
   "cell_type": "code",
   "execution_count": 14,
   "metadata": {},
   "outputs": [],
   "source": [
    "#Calcula as Matrizes de Rigidez\n",
    "for elemento in elementos:\n",
    "    matriz_rigidez = calcula_matriz_rigidez(elemento)\n",
    "    elemento.setMatrizRigidez(matriz_rigidez)"
   ]
  },
  {
   "cell_type": "code",
   "execution_count": 15,
   "metadata": {},
   "outputs": [],
   "source": [
    "#Calcula a matriz de rigidez universal\n",
    "K_G = get_matriz_universal(nn,nm,elementos)\n",
    "temp = K_G"
   ]
  },
  {
   "cell_type": "code",
   "execution_count": 16,
   "metadata": {},
   "outputs": [],
   "source": [
    "#Inverte o array de R\n",
    "R_invertido = np.zeros_like(R)\n",
    "cont = len(R)-1\n",
    "i = 0\n",
    "while cont>=0:\n",
    "    R_invertido[i] = R[cont]\n",
    "    cont -=1\n",
    "    i+=1"
   ]
  },
  {
   "cell_type": "code",
   "execution_count": 17,
   "metadata": {},
   "outputs": [],
   "source": [
    "F_alterado = F\n",
    "mask_K_G = np.ones(K_G.shape[0],bool)\n",
    "mask_F = np.ones(K_G.shape[0],bool)\n",
    "for restricao in R_invertido:\n",
    "    mask_K_G[int(restricao[0])] = 0\n",
    "    mask_F[int(restricao[0])] = 0\n",
    "\n",
    "K_G_alterado = K_G[mask_K_G,:][:,mask_K_G]\n",
    "F_alterado = F[mask_F,:]\n"
   ]
  },
  {
   "cell_type": "code",
   "execution_count": 18,
   "metadata": {},
   "outputs": [
    {
     "name": "stdout",
     "output_type": "stream",
     "text": [
      "Tempo Numpy : 0.0003431999357417226\n"
     ]
    }
   ],
   "source": [
    "t1_start = perf_counter()\n",
    "U = np.linalg.inv(K_G_alterado)@F_alterado\n",
    "t1_stop = perf_counter()\n",
    "U2 = np.zeros_like(F)\n",
    "cont = 0\n",
    "for i in range(0,len(F)):\n",
    "    if i not in R:\n",
    "        U2[i] = U[cont]\n",
    "        cont+=1\n",
    "\n",
    "Reac = np.dot(temp,U2)\n",
    "Reacoes_final = np.zeros_like(R)\n",
    "cont = 0\n",
    "for i in range(0,len(F)):\n",
    "    if i in R:\n",
    "        Reacoes_final[cont] = Reac[i]\n",
    "        cont+=1\n",
    "\n",
    "deformacoes,tensoes,forcas = get_lista_deformacoes_forcas_tensoes(U2,elementos)\n",
    "\n",
    "geraSaida(\"Numpy\",Reacoes_final,U2,deformacoes,forcas,tensoes)\n",
    "print(\"Tempo Numpy : {}\".format(t1_stop-t1_start))"
   ]
  },
  {
   "cell_type": "code",
   "execution_count": 19,
   "metadata": {},
   "outputs": [
    {
     "name": "stdout",
     "output_type": "stream",
     "text": [
      "3.2485758756881127e+74\n",
      "Tempo Jacobi : 0.6577354999026284\n"
     ]
    }
   ],
   "source": [
    "t2_start = perf_counter()\n",
    "U_jacobi = jacobi(K_G_alterado,F_alterado,10000,1e-20)\n",
    "t2_stop = perf_counter()\n",
    "U2_jacobi = np.zeros_like(F)\n",
    "cont = 0\n",
    "for i in range(0,len(F)):\n",
    "    if i not in R:\n",
    "        U2_jacobi[i] = U_jacobi[cont]\n",
    "        cont+=1\n",
    "\n",
    "Reac_jacobi = np.dot(temp,U2_jacobi)\n",
    "Reacoes_final_jacobi = np.zeros_like(R)\n",
    "cont = 0\n",
    "for i in range(0,len(F)):\n",
    "    if i in R:\n",
    "        Reacoes_final_jacobi[cont] = Reac_jacobi[i]\n",
    "        cont+=1\n",
    "\n",
    "deformacoes_jacobi,tensoes_jacobi,forcas_jacobi = get_lista_deformacoes_forcas_tensoes(U2_jacobi,elementos)\n",
    "\n",
    "geraSaida(\"Jacobi\",Reacoes_final_jacobi,U2_jacobi,deformacoes_jacobi,forcas_jacobi,tensoes_jacobi)\n",
    "print(\"Tempo Jacobi : {}\".format(t2_stop-t2_start))"
   ]
  },
  {
   "cell_type": "code",
   "execution_count": 20,
   "metadata": {},
   "outputs": [
    {
     "name": "stdout",
     "output_type": "stream",
     "text": [
      "Tempo Seidel : 0.08415350003633648\n"
     ]
    }
   ],
   "source": [
    "t3_start = perf_counter()\n",
    "U_seidel = seidel(K_G_alterado,F_alterado,100000,1e-20)\n",
    "t3_stop = perf_counter()\n",
    "U2_seidel = np.zeros_like(F)\n",
    "cont = 0\n",
    "for i in range(0,len(F)):\n",
    "    if i not in R:\n",
    "        U2_seidel[i] = U_seidel[cont]\n",
    "        cont+=1\n",
    "\n",
    "Reac_seidel = np.dot(temp,U2_seidel)\n",
    "Reacoes_final_seidel = np.zeros_like(R)\n",
    "cont = 0\n",
    "for i in range(0,len(F)):\n",
    "    if i in R:\n",
    "        Reacoes_final_seidel[cont] = Reac_seidel[i]\n",
    "        cont+=1\n",
    "\n",
    "deformacoes_seidel,tensoes_seidel,forcas_seidel = get_lista_deformacoes_forcas_tensoes(U2_seidel,elementos)\n",
    "\n",
    "geraSaida(\"Seidel\",Reacoes_final_seidel,U2_seidel,deformacoes_seidel,forcas_seidel,tensoes_seidel)\n",
    "print(\"Tempo Seidel : {}\".format(t3_stop-t3_start))"
   ]
  }
 ],
 "metadata": {
  "kernelspec": {
   "display_name": "Python 3",
   "language": "python",
   "name": "python3"
  },
  "language_info": {
   "codemirror_mode": {
    "name": "ipython",
    "version": 3
   },
   "file_extension": ".py",
   "mimetype": "text/x-python",
   "name": "python",
   "nbconvert_exporter": "python",
   "pygments_lexer": "ipython3",
   "version": "3.10.6"
  },
  "orig_nbformat": 4
 },
 "nbformat": 4,
 "nbformat_minor": 2
}
