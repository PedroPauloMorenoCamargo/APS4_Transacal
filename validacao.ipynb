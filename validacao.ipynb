{
 "cells": [
  {
   "attachments": {},
   "cell_type": "markdown",
   "metadata": {},
   "source": [
    "erros deslocamentos"
   ]
  },
  {
   "cell_type": "code",
   "execution_count": 67,
   "metadata": {},
   "outputs": [
    {
     "name": "stdout",
     "output_type": "stream",
     "text": [
      "maior erro dos deslocamentos dividido pelo valor medio dos deslocamentos (em x) 0.0009882551546711907%\n",
      "maior erro dos deslocamentos dividido pelo valor medio dos deslocamentos (em y) -0.00015591058677115078%\n"
     ]
    }
   ],
   "source": [
    "import numpy as np\n",
    "\n",
    "deslocamentos_reais = [0.,\n",
    "                 0.,\n",
    "                 0.00100474,\n",
    "                 -0.00431173,\n",
    "                 0.00035977,\n",
    "                 -0.00466313,\n",
    "                 0.00025974,\n",
    "                 -0.00443928,\n",
    "                 0.00055859,\n",
    "                 -0.00463759,\n",
    "                 -0.00032427,\n",
    "                 -0.00424778,\n",
    "                 0.00116451,\n",
    "                 0.]\n",
    "\n",
    "deslocamentos_lisa = [0, 0,\n",
    "                      0.00100473773851939, -0.00431173336893046,\n",
    "                      0.000359768635630704, -0.00466312908057705,\n",
    "                      0.000259742558608514, -0.00443927764867053,\n",
    "                      0.000558588144795041, -0.00463758827929193,\n",
    "                      -0.000324272590066565, -0.00424778496675707,\n",
    "                      0.00116451426796254, 0]\n",
    "deslocamentos_lisa_x = []\n",
    "deslocamentos_lisa_y = []\n",
    "deslocamentos_reais_x = []\n",
    "deslocamentos_reais_y = []\n",
    "\n",
    "for i in range(0,len(deslocamentos_reais)-1,2):\n",
    "    deslocamentos_reais_x.append(deslocamentos_reais[i])\n",
    "    deslocamentos_reais_y.append(deslocamentos_reais[i+1])\n",
    "    deslocamentos_lisa_x.append(deslocamentos_lisa[i])\n",
    "    deslocamentos_lisa_y.append(deslocamentos_lisa[i+1])\n",
    "\n",
    "\n",
    "deslocamentos_reais_x = np.array(deslocamentos_reais_x, dtype=np.float64)\n",
    "deslocamentos_lisa_x = np.array(deslocamentos_lisa_x, dtype=np.float64)\n",
    "deslocamentos_reais_y = np.array(deslocamentos_reais_y, dtype=np.float64)\n",
    "deslocamentos_lisa_y = np.array(deslocamentos_lisa_y, dtype=np.float64)\n",
    "\n",
    "\n",
    "erro_deslocamentos_x = np.abs(deslocamentos_reais_x-deslocamentos_lisa_x)\n",
    "\n",
    "erro_deslocamentos_y = np.abs(deslocamentos_reais_y-deslocamentos_lisa_y)\n",
    "\n",
    "max_error_deslocamentos_x = np.max(erro_deslocamentos_x)\n",
    "max_error_deslocamentos_y = np.max(erro_deslocamentos_y)\n",
    "\n",
    "percent_desl_erro_x = max_error_deslocamentos_x/np.mean([np.mean(deslocamentos_reais_x),np.mean(deslocamentos_lisa_x)])\n",
    "percent_desl_erro_y = max_error_deslocamentos_y/np.mean([np.mean(deslocamentos_reais_y),np.mean(deslocamentos_lisa_y)])\n",
    "\n",
    "print(f\"maior erro dos deslocamentos dividido pelo valor medio dos deslocamentos (em x) {percent_desl_erro_x*100}%\")\n",
    "print(f\"maior erro dos deslocamentos dividido pelo valor medio dos deslocamentos (em y) {percent_desl_erro_y*100}%\")"
   ]
  },
  {
   "attachments": {},
   "cell_type": "markdown",
   "metadata": {},
   "source": [
    "erros tensoes"
   ]
  },
  {
   "cell_type": "code",
   "execution_count": 63,
   "metadata": {},
   "outputs": [
    {
     "name": "stdout",
     "output_type": "stream",
     "text": [
      "maior erro das forcas dividido pelo menor valor das forcas 5.455688716052704e-10%\n"
     ]
    }
   ],
   "source": [
    "\n",
    "import numpy as np\n",
    "import numpy as np\n",
    "forcas_lisa = np.array([-6484.59713474939, 1900, -766.179646036095, -4555.98850415582, 766.179646036103, 1050, 1937.98381056189, -3829.26641146838, -1937.98381056189, 3199.99999999999, -3577.70876399966],np.float64)\n",
    "forcas_reais = np.array([-6484.59713475,\n",
    " 1900.        ,\n",
    " -766.17964604,\n",
    "-4555.98850416,\n",
    "  766.17964604,\n",
    " 1050.        ,\n",
    " 1937.98381056,\n",
    "-3829.26641147,\n",
    "-1937.98381056,\n",
    " 3200.        ,\n",
    " -3577.708764  ],dtype=np.float64)\n",
    "\n",
    "\n",
    "\n",
    "erro_forcas =np.abs(forcas_reais-forcas_lisa)\n",
    "max_error_forcas = np.max(erro_forcas)\n",
    "\n",
    "percent_forcas_erro = max_error_forcas/np.min([np.min(np.abs(forcas_reais)),np.min(np.abs(forcas_lisa))])\n",
    "\n",
    "print(f\"maior erro das forcas dividido pelo menor valor das forcas {percent_forcas_erro*100}%\")"
   ]
  },
  {
   "cell_type": "code",
   "execution_count": 64,
   "metadata": {},
   "outputs": [
    {
     "name": "stdout",
     "output_type": "stream",
     "text": [
      "maior erro das tensoes dividido pelo menor valor das tensoes 6.853000648252359e-07%\n"
     ]
    }
   ],
   "source": [
    "\n",
    "\n",
    "\n",
    "tensoes_reais = np.array([-1.23516136e+09,\n",
    "  3.61904762e+08,\n",
    " -1.45938980e+08,\n",
    " -8.67807334e+08,\n",
    "  1.45938980e+08,\n",
    "  2.00000000e+08,\n",
    "  3.69139773e+08,\n",
    " -7.29384078e+08,\n",
    " -3.69139773e+08,\n",
    "  6.09523810e+08,\n",
    " -6.81468336e+08,],dtype=np.float64)\n",
    "\n",
    "tensoes_lisa = np.array([-1235161358.99988,\n",
    "361904761.904762,\n",
    "-145938980.197351,\n",
    "-867807334.124917,\n",
    "145938980.197353,\n",
    "200000000,\n",
    "369139773.440359,\n",
    "-729384078.37493,\n",
    "-369139773.44036,\n",
    "609523809.523808,\n",
    "-681468335.999935],dtype=np.float64)\n",
    "\n",
    "erro_tensoes = np.abs(tensoes_reais-tensoes_lisa)\n",
    "max_error_tensoes = np.max(erro_tensoes)\n",
    "\n",
    "percent_forcas_erro = max_error_tensoes/np.min([np.min(np.abs(tensoes_reais)),np.min(np.abs(tensoes_lisa))])\n",
    "\n",
    "print(f\"maior erro das tensoes dividido pelo menor valor das tensoes {percent_forcas_erro*100}%\")"
   ]
  }
 ],
 "metadata": {
  "kernelspec": {
   "display_name": "Python 3",
   "language": "python",
   "name": "python3"
  },
  "language_info": {
   "codemirror_mode": {
    "name": "ipython",
    "version": 3
   },
   "file_extension": ".py",
   "mimetype": "text/x-python",
   "name": "python",
   "nbconvert_exporter": "python",
   "pygments_lexer": "ipython3",
   "version": "3.9.13"
  },
  "orig_nbformat": 4
 },
 "nbformat": 4,
 "nbformat_minor": 2
}
